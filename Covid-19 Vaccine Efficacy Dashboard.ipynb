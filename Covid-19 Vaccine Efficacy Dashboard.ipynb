{
 "cells": [
  {
   "cell_type": "code",
   "execution_count": 1,
   "id": "1830004f",
   "metadata": {},
   "outputs": [
    {
     "name": "stdout",
     "output_type": "stream",
     "text": [
      "https://data.cdc.gov/Public-Health-Surveillance/Rates-of-COVID-19-Cases-or-Deaths-by-Age-Group-and/d6p8-wqjm\n"
     ]
    }
   ],
   "source": [
    "import pandas as pd \n",
    "import numpy as np  \n",
    "\n",
    "import altair as alt\n",
    "from vega_datasets import data \n",
    "\n",
    "import warnings\n",
    "warnings.filterwarnings(\"ignore\") \n",
    "\n",
    "#Link to this Data Set:  \n",
    "print('https://data.cdc.gov/Public-Health-Surveillance/Rates-of-COVID-19-Cases-or-Deaths-by-Age-Group-and/d6p8-wqjm')"
   ]
  },
  {
   "cell_type": "markdown",
   "id": "c76b1e3f",
   "metadata": {},
   "source": [
    "### Reading in DF created from Data Preperation"
   ]
  },
  {
   "cell_type": "code",
   "execution_count": 2,
   "id": "71f640c3",
   "metadata": {},
   "outputs": [],
   "source": [
    "TSdeath_df = pd.read_csv('Time-Series Death Data.csv') \n",
    "TScase_df = pd.read_csv('Time-Series Case Data.csv')  \n",
    "vaxPop_df = pd.read_csv('Time-Series Population Data.csv')\n",
    "   \n",
    "county_vax_df = pd.read_csv('covid-death-data.csv') "
   ]
  },
  {
   "cell_type": "code",
   "execution_count": 3,
   "id": "58f829f6",
   "metadata": {},
   "outputs": [],
   "source": [
    "pop_color_mapping = {\n",
    "    'unvaccinated_population': 'red',\n",
    "    'boosted_population': 'blue',\n",
    "    'primary_series_only_population': 'green'\n",
    "}  "
   ]
  },
  {
   "cell_type": "code",
   "execution_count": 4,
   "id": "72da6e52",
   "metadata": {},
   "outputs": [],
   "source": [
    "case_color_mapping = {\n",
    "    'Unvaccinated Positive Case': 'red',\n",
    "    'Boosted Positive Case': 'blue',\n",
    "    'Primary Series Positive Case': 'green'\n",
    "}  "
   ]
  },
  {
   "cell_type": "code",
   "execution_count": 5,
   "id": "04328e41",
   "metadata": {},
   "outputs": [],
   "source": [
    "death_color_mapping = {\n",
    "    'Unvaccinated Covid Mortalities': 'red',\n",
    "    'Boosted Covid Mortalities': 'blue',\n",
    "    'Primary Series Covid Mortalities': 'green'\n",
    "}  "
   ]
  },
  {
   "cell_type": "markdown",
   "id": "e2ccb749",
   "metadata": {},
   "source": [
    "## The DashBoard "
   ]
  },
  {
   "cell_type": "code",
   "execution_count": 6,
   "id": "d3db79dd",
   "metadata": {},
   "outputs": [],
   "source": [
    "\n",
    "\n",
    "counties = alt.topo_feature(data.us_10m.url, 'counties')\n",
    "states = alt.topo_feature(data.us_10m.url, 'states')\n",
    "source = county_vax_df\n",
    "\n",
    "\n",
    "age_group = ['18-49', '50-64', '65+', 'all_ages']   \n",
    "\n",
    "\n",
    "\n",
    "age_dropdown = alt.binding_select(options=age_group, name='Select Age Group')\n",
    "\n",
    "\n",
    "age_selection = alt.selection_single(fields=['age_group'], bind=age_dropdown)\n",
    "\n",
    "\n",
    "\n",
    "line = alt.Chart(TSdeath_df.reset_index()).mark_line().encode(\n",
    "    x = 'date',\n",
    "    y = alt.Y('Weekly Covid Mortality Totals:Q',title='Weekly Total Covid Related Mortalities'), \n",
    "    color = alt.Color('Vaccination Status:N',scale=alt.Scale(domain=list(death_color_mapping.keys()), \n",
    "                                                              range=list(death_color_mapping.values()))),  \n",
    ").properties(selection=alt.selection_interval(bind='scales', zoom=False, translate=False),\n",
    "    title=['Deaths Totals per Week by Vaccinated Population']  \n",
    ").add_selection( \n",
    "    age_selection \n",
    ").transform_filter( \n",
    "    age_selection   \n",
    ").interactive()\n",
    " \n",
    "                           \n",
    "line2 = alt.Chart(TScase_df.reset_index()).mark_line().encode(\n",
    "    x = 'date',\n",
    "    y = alt.Y('Weekly Covid Positive Case Totals:Q', title='Weekly Total Positive Covid Cases'), \n",
    "    color = alt.Color('Vaccination Status:N', scale=alt.Scale(domain=list(case_color_mapping.keys()), \n",
    "                                                              range=list(case_color_mapping.values()))), \n",
    ").properties(selection=alt.selection_interval(bind='scales', zoom=False, translate=False), \n",
    "             title = ['Case Totals per Week by Vaccinated Population']\n",
    ").add_selection( \n",
    "    age_selection  \n",
    ").transform_filter( \n",
    "    age_selection   \n",
    ").interactive()  \n",
    "\n",
    "area_chart = alt.Chart(vaxPop_df).mark_area(opacity=0.1).encode(\n",
    "    x= \"date\",\n",
    "    y= alt.Y('Percentage of Total Population by Vaccination Status:Q',title='% of Population (Ages 18-49)', \n",
    "             scale=alt.Scale(type='linear'),stack='normalize'), \n",
    "    color = alt.Color('Vaccination Status:N', scale=alt.Scale(domain=list(pop_color_mapping.keys()), \n",
    "                                                              range=list(pop_color_mapping.values())))\n",
    ").properties(selection=alt.selection_interval(bind='scales', zoom=False, translate=False), \n",
    "             title = ['Weekly Population for Vaccination Status Groups'], \n",
    ")\n",
    "\n",
    "\n",
    "\n",
    "highlight = alt.selection_single(on='mouseover', fields=['id'], empty='none')\n",
    "\n",
    "plot = alt.Chart(counties).mark_geoshape().encode(\n",
    "    color=alt.condition(highlight, alt.value('red'), 'covid_deaths_per_500k:Q'),\n",
    "    tooltip=['covid_deaths_per_500k:Q', 'county:N']\n",
    ").transform_lookup(\n",
    "    lookup='id',\n",
    "    from_=alt.LookupData(source, 'county_fips', ['covid_deaths_per_500k', 'county'])\n",
    ").add_selection(highlight).project(\n",
    "    type='albersUsa'\n",
    ").properties(\n",
    "    width=900,\n",
    "    height=600,\n",
    ")\n",
    "\n",
    "outline = alt.Chart(states).mark_geoshape(stroke='blue', fillOpacity=0).project(\n",
    "    type='albersUsa'\n",
    ").properties(\n",
    "    width=700,\n",
    "    height=400\n",
    ")\n",
    "\n",
    "m = alt.layer(plot,outline).properties(title=[\"Covid Related Deaths per 500k by County\"])   \n"
   ]
  },
  {
   "cell_type": "code",
   "execution_count": 12,
   "id": "dfbc4875",
   "metadata": {},
   "outputs": [],
   "source": [
    "Layer_case = alt.layer(line2, area_chart).resolve_scale(y='independent').properties(width=800, height=400) \n",
    "Layer_death = alt.layer(line, area_chart).resolve_scale(y='independent').properties(width=800,height=400)"
   ]
  },
  {
   "cell_type": "code",
   "execution_count": null,
   "id": "b9460df9",
   "metadata": {},
   "outputs": [],
   "source": [
    "final_plots = m & Layer_case & Layer_death"
   ]
  },
  {
   "cell_type": "code",
   "execution_count": null,
   "id": "3d57c453",
   "metadata": {},
   "outputs": [],
   "source": [
    "final_plots"
   ]
  },
  {
   "cell_type": "markdown",
   "id": "64a0ab42",
   "metadata": {
    "scrolled": true
   },
   "source": [
    "!pip install altair_saver"
   ]
  },
  {
   "cell_type": "markdown",
   "id": "05340c5a",
   "metadata": {},
   "source": [
    "import altair_saver\n",
    "\n",
    "#Save the chart as an HTML file\n",
    "altair_saver.save(final_plots, 'Covid-19 Vaccine Efficacy Dashboard.html')"
   ]
  },
  {
   "cell_type": "markdown",
   "id": "732c31f7",
   "metadata": {},
   "source": [
    "from IPython.display import HTML\n",
    "\n",
    "#Define the file path of the HTML file\n",
    "file_path = './Covid-19 Vaccine Efficacy Dashboard.html'\n",
    "\n",
    "#Create an HTML string with a hyperlink to the HTML file\n",
    "html_string = f'<a href=\"{file_path}\" target=\"_blank\">Open HTML file</a>'\n",
    "\n",
    "#Display the HTML string in the notebook output\n",
    "HTML(html_string)\n"
   ]
  },
  {
   "cell_type": "code",
   "execution_count": null,
   "id": "3aecef55",
   "metadata": {},
   "outputs": [],
   "source": []
  }
 ],
 "metadata": {
  "kernelspec": {
   "display_name": "Python 3 (ipykernel)",
   "language": "python",
   "name": "python3"
  },
  "language_info": {
   "codemirror_mode": {
    "name": "ipython",
    "version": 3
   },
   "file_extension": ".py",
   "mimetype": "text/x-python",
   "name": "python",
   "nbconvert_exporter": "python",
   "pygments_lexer": "ipython3",
   "version": "3.8.15"
  }
 },
 "nbformat": 4,
 "nbformat_minor": 5
}
